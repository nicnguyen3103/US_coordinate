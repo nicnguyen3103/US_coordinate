{
 "cells": [
  {
   "cell_type": "code",
   "execution_count": 1,
   "metadata": {},
   "outputs": [],
   "source": [
    "import os\n",
    "from pathlib import Path"
   ]
  },
  {
   "cell_type": "code",
   "execution_count": 2,
   "metadata": {},
   "outputs": [],
   "source": [
    "p = Path('.')"
   ]
  },
  {
   "cell_type": "code",
   "execution_count": 3,
   "metadata": {},
   "outputs": [
    {
     "name": "stdout",
     "output_type": "stream",
     "text": [
      "\u001b[34mAlabama_Z15_S2_BFS\u001b[m\u001b[m/                \u001b[34mNewJersey_Z15_S2_BFS\u001b[m\u001b[m/\r\n",
      "\u001b[34mAlaska_Z15_S2_BFS\u001b[m\u001b[m/                 \u001b[34mNewMexico_Z15_S2_BFS\u001b[m\u001b[m/\r\n",
      "\u001b[34mArizona_Z15_S2_BFS\u001b[m\u001b[m/                \u001b[34mNewYork_Z15_S2_BFS\u001b[m\u001b[m/\r\n",
      "\u001b[34mArkansas_Z15_S2_BFS\u001b[m\u001b[m/               \u001b[34mNorthCarolina_Z15_S2_BFS\u001b[m\u001b[m/\r\n",
      "\u001b[34mCalifornia_Z15_S2_BFS\u001b[m\u001b[m/             \u001b[34mNorthDakota_Z15_S2_BFS\u001b[m\u001b[m/\r\n",
      "\u001b[34mColorado_Z15_S2_BFS\u001b[m\u001b[m/               \u001b[34mOhio_Z15_S2_BFS\u001b[m\u001b[m/\r\n",
      "\u001b[34mConnecticut_Z15_S2_BFS\u001b[m\u001b[m/            \u001b[34mOklahoma_Z15_S2_BFS\u001b[m\u001b[m/\r\n",
      "\u001b[34mDelaware_Z15_S2_BFS\u001b[m\u001b[m/               \u001b[34mOregon_Z15_S2_BFS\u001b[m\u001b[m/\r\n",
      "\u001b[34mFlorida_Z15_S2_BFS\u001b[m\u001b[m/                \u001b[34mPennsylvania_Z15_S2_BFS\u001b[m\u001b[m/\r\n",
      "\u001b[34mGeorgia_Z15_S2_BFS\u001b[m\u001b[m/                \u001b[34mPortugal_Z15_S2_BFS\u001b[m\u001b[m/\r\n",
      "\u001b[34mHawaii_Z15_S2_BFS\u001b[m\u001b[m/                 \u001b[34mPuerto_Rico_Island_Z15_S2_BFS\u001b[m\u001b[m/\r\n",
      "\u001b[34mIdaho_Z15_S2_BFS\u001b[m\u001b[m/                  \u001b[34mQatar_Z15_S2_BFS\u001b[m\u001b[m/\r\n",
      "\u001b[34mIllinois_Z15_S2_BFS\u001b[m\u001b[m/               \u001b[34mRhodeIsland_Z15_S2_BFS\u001b[m\u001b[m/\r\n",
      "\u001b[34mIndiana_Z15_S2_BFS\u001b[m\u001b[m/                \u001b[34mSouthCarolina_Z15_S2_BFS\u001b[m\u001b[m/\r\n",
      "\u001b[34mIowa_Z15_S2_BFS\u001b[m\u001b[m/                   \u001b[34mSouthDakota_Z15_S2_BFS\u001b[m\u001b[m/\r\n",
      "\u001b[34mKansas_Z15_S2_BFS\u001b[m\u001b[m/                 \u001b[34mTennessee_Z15_S2_BFS\u001b[m\u001b[m/\r\n",
      "\u001b[34mKentucky_Z15_S2_BFS\u001b[m\u001b[m/               \u001b[34mTexas_Z15_S2_BFS\u001b[m\u001b[m/\r\n",
      "\u001b[34mLouisiana_Z15_S2_BFS\u001b[m\u001b[m/              \u001b[34mUS_WKT\u001b[m\u001b[m/\r\n",
      "\u001b[34mMaine_Z15_S2_BFS\u001b[m\u001b[m/                  Untitled-Copy1.ipynb\r\n",
      "\u001b[34mMarryland_Z15_S2_BFS\u001b[m\u001b[m/              Untitled.ipynb\r\n",
      "\u001b[34mMassachusetts_Z15_S2_BFS\u001b[m\u001b[m/          \u001b[34mUtah_Z15_S2_BFS\u001b[m\u001b[m/\r\n",
      "\u001b[34mMichigan_Z15_S2_BFS\u001b[m\u001b[m/               \u001b[34mVermont_Z15_S2_BFS\u001b[m\u001b[m/\r\n",
      "\u001b[34mMinnesota_Z15_S2_BFS\u001b[m\u001b[m/              \u001b[34mVirgin_Island_Z15_S2_BFS\u001b[m\u001b[m/\r\n",
      "\u001b[34mMinor_Outlying_Islands_Z15_S2_BFS\u001b[m\u001b[m/ \u001b[34mVirginia_Z15_S2_BFS\u001b[m\u001b[m/\r\n",
      "\u001b[34mMississippi_Z15_S2_BFS\u001b[m\u001b[m/            \u001b[34mWashingtonDC_Z15_S2_BFS\u001b[m\u001b[m/\r\n",
      "\u001b[34mMissouri_Z15_S2_BFS\u001b[m\u001b[m/               \u001b[34mWashington_Z15_S2_BFS\u001b[m\u001b[m/\r\n",
      "\u001b[34mMontana_Z15_S2_BFS\u001b[m\u001b[m/                \u001b[34mWestVirginia_Z15_S2_BFS\u001b[m\u001b[m/\r\n",
      "\u001b[34mNebraska_Z15_S2_BFS\u001b[m\u001b[m/               \u001b[34mWhole_Country\u001b[m\u001b[m/\r\n",
      "\u001b[34mNevada_Z15_S2_BFS\u001b[m\u001b[m/                 \u001b[34mWisconsin_Z15_S2_BFS\u001b[m\u001b[m/\r\n",
      "\u001b[34mNewHampshire_Z15_S2_BFS\u001b[m\u001b[m/           \u001b[34mWyoming_Z15_S2_BFS\u001b[m\u001b[m/\r\n"
     ]
    }
   ],
   "source": [
    "ls"
   ]
  },
  {
   "cell_type": "code",
   "execution_count": 5,
   "metadata": {},
   "outputs": [
    {
     "data": {
      "text/plain": [
       "<generator object Path.glob at 0x111068740>"
      ]
     },
     "execution_count": 5,
     "metadata": {},
     "output_type": "execute_result"
    }
   ],
   "source": [
    "p.glob('Indiana_Z15_S2_BFS/*')"
   ]
  },
  {
   "cell_type": "code",
   "execution_count": 7,
   "metadata": {},
   "outputs": [],
   "source": [
    "# list(p.glob('**/**'))"
   ]
  },
  {
   "cell_type": "code",
   "execution_count": 25,
   "metadata": {},
   "outputs": [
    {
     "name": "stdout",
     "output_type": "stream",
     "text": [
      "NorthDakota_Z15_S2_BFS\n",
      "Wisconsin_Z15_S2_BFS\n",
      "NorthCarolina_Z15_S2_BFS\n",
      "Michigan_Z15_S2_BFS\n",
      "Texas_Z15_S2_BFS\n",
      "US_WKT\n",
      "Wyoming_Z15_S2_BFS\n",
      "NewJersey_Z15_S2_BFS\n",
      "Utah_Z15_S2_BFS\n",
      "Montana_Z15_S2_BFS\n",
      "Arizona_Z15_S2_BFS\n",
      "Alabama_Z15_S2_BFS\n",
      "SouthCarolina_Z15_S2_BFS\n",
      "Virgin_Island_Z15_S2_BFS\n",
      "Iowa_Z15_S2_BFS\n",
      "Alaska_Z15_S2_BFS\n",
      "Whole_Country\n",
      "Connecticut_Z15_S2_BFS\n",
      "Mississippi_Z15_S2_BFS\n",
      "Puerto_Rico_Island_Z15_S2_BFS\n",
      "Maine_Z15_S2_BFS\n",
      "Idaho_Z15_S2_BFS\n",
      "Arkansas_Z15_S2_BFS\n",
      "Oregon_Z15_S2_BFS\n",
      "SouthDakota_Z15_S2_BFS\n",
      "NewYork_Z15_S2_BFS\n",
      "California_Z15_S2_BFS\n",
      "Delaware_Z15_S2_BFS\n",
      "Minor_Outlying_Islands_Z15_S2_BFS\n",
      "Florida_Z15_S2_BFS\n",
      "Qatar_Z15_S2_BFS\n",
      "NewHampshire_Z15_S2_BFS\n",
      "Untitled-Copy1.ipynb\n",
      "Illinois_Z15_S2_BFS\n",
      "Ohio_Z15_S2_BFS\n",
      "Portugal_Z15_S2_BFS\n",
      "Tennessee_Z15_S2_BFS\n",
      "RhodeIsland_Z15_S2_BFS\n",
      "Marryland_Z15_S2_BFS\n",
      "Georgia_Z15_S2_BFS\n",
      "Hawaii_Z15_S2_BFS\n",
      "Indiana_Z15_S2_BFS\n",
      ".ipynb_checkpoints\n",
      "Virginia_Z15_S2_BFS\n",
      "Kentucky_Z15_S2_BFS\n",
      "Colorado_Z15_S2_BFS\n",
      "Minnesota_Z15_S2_BFS\n",
      "WestVirginia_Z15_S2_BFS\n",
      ".git\n",
      "Louisiana_Z15_S2_BFS\n",
      "Vermont_Z15_S2_BFS\n",
      "WashingtonDC_Z15_S2_BFS\n",
      "Pennsylvania_Z15_S2_BFS\n",
      "Nevada_Z15_S2_BFS\n",
      "Washington_Z15_S2_BFS\n",
      "Missouri_Z15_S2_BFS\n",
      "Nebraska_Z15_S2_BFS\n",
      "Oklahoma_Z15_S2_BFS\n",
      "NewMexico_Z15_S2_BFS\n",
      "Kansas_Z15_S2_BFS\n",
      "Massachusetts_Z15_S2_BFS\n",
      "combined_map_points.txt\n",
      "tiles-matrix\n",
      "combined_map_points.txt\n",
      "tiles-matrix\n",
      "combined_map_points.txt\n",
      "tiles-matrix\n",
      "combined_map_points.txt\n",
      "tiles-matrix\n",
      "combined_map_points.txt\n",
      "tiles-matrix\n",
      "combined_map_points.txt\n",
      "tiles-matrix\n",
      "combined_map_points.txt\n",
      "tiles-matrix\n",
      "combined_map_points.txt\n",
      "tiles-matrix\n",
      "combined_map_points.txt\n",
      "tiles-matrix\n",
      "combined_map_points.txt\n",
      "tiles-matrix\n",
      "combined_map_points.txt\n",
      "tiles-matrix\n",
      "combined_map_points.txt\n",
      "tiles-matrix\n",
      "combined_map_points.txt\n",
      "tiles-matrix\n",
      "combined_map_points.txt\n",
      "tiles-matrix\n",
      "us_hawaii\n",
      "us_alaska\n",
      "3NMs\n",
      "output\n",
      "combined_map_points.txt\n",
      "tiles-matrix\n",
      "combined_map_points.txt\n",
      "tiles-matrix\n",
      "combined_map_points.txt\n",
      "tiles-matrix\n",
      "combined_map_points.txt\n",
      "tiles-matrix\n",
      "combined_map_points.txt\n",
      "tiles-matrix\n",
      "combined_map_points.txt\n",
      "tiles-matrix\n",
      "MB-340\n",
      "BIA_National_LAR_shp\n",
      "National LAR Regions Table\n",
      "Entity Link Table\n",
      "info\n",
      "info\n",
      "combined_map_points.txt\n",
      "tiles-matrix\n",
      "combined_map_points.txt\n",
      "tiles-matrix\n",
      "combined_map_points.txt\n",
      "tiles-matrix\n",
      "combined_map_points.txt\n",
      "tiles-matrix\n",
      "combined_map_points.txt\n",
      "tiles-matrix\n",
      "combined_map_points.txt\n",
      "tiles-matrix\n",
      "combined_map_points.txt\n",
      "tiles-matrix\n",
      "combined_map_points.txt\n",
      "tiles-matrix\n",
      "combined_map_points.txt\n",
      "tiles-matrix\n",
      "combined_map_points.txt\n",
      "tiles-matrix\n",
      "combined_map_points.txt\n",
      "tiles-matrix\n",
      "combined_map_points.txt\n",
      "tiles-matrix\n",
      "combined_map_points.txt\n",
      "tiles-matrix\n",
      "combined_map_points.txt\n",
      "tiles-matrix\n",
      "combined_map_points.txt\n",
      "tiles-matrix\n",
      "Untitled-Copy1-checkpoint.ipynb\n",
      "combined_map_points.txt\n",
      "tiles-matrix\n",
      "combined_map_points.txt\n",
      "tiles-matrix\n",
      "combined_map_points.txt\n",
      "tiles-matrix\n",
      "combined_map_points.txt\n",
      "tiles-matrix\n",
      "combined_map_points.txt\n",
      "tiles-matrix\n",
      "objects\n",
      "info\n",
      "logs\n",
      "hooks\n",
      "refs\n",
      "pack\n",
      "info\n",
      "refs\n",
      "heads\n",
      "heads\n",
      "tags\n",
      "combined_map_points.txt\n",
      "tiles-matrix\n",
      "combined_map_points.txt\n",
      "tiles-matrix\n",
      "combined_map_points.txt\n",
      "tiles-matrix\n",
      "combined_map_points.txt\n",
      "tiles-matrix\n",
      "combined_map_points.txt\n",
      "tiles-matrix\n",
      "combined_map_points.txt\n",
      "tiles-matrix\n",
      "combined_map_points.txt\n",
      "tiles-matrix\n",
      "combined_map_points.txt\n",
      "tiles-matrix\n",
      "combined_map_points.txt\n",
      "tiles-matrix\n",
      "combined_map_points.txt\n",
      "tiles-matrix\n",
      "combined_map_points.txt\n",
      "tiles-matrix\n",
      "combined_map_points.txt\n",
      "tiles-matrix\n"
     ]
    }
   ],
   "source": [
    "for i in p.glob('**/*'):\n",
    "    if i.name != \"combined_map_points.txt\" and i.is_file():\n",
    "        i.unlink()"
   ]
  },
  {
   "cell_type": "code",
   "execution_count": 28,
   "metadata": {},
   "outputs": [],
   "source": [
    "for i in p.glob('**/*'):\n",
    "    if i.name == 'tiles-matrix':\n",
    "        i.rmdir()"
   ]
  },
  {
   "cell_type": "code",
   "execution_count": 12,
   "metadata": {},
   "outputs": [
    {
     "name": "stdout",
     "output_type": "stream",
     "text": [
      "Indiana_Z15_S2_BFS/combined_map_points.txt\n",
      "Indiana_Z15_S2_BFS/tiles-matrix\n"
     ]
    }
   ],
   "source": [
    "for i in p.glob('Indiana_Z15_S2_BFS/*'):\n",
    "    print(i)"
   ]
  },
  {
   "cell_type": "code",
   "execution_count": 29,
   "metadata": {},
   "outputs": [
    {
     "name": "stdout",
     "output_type": "stream",
     "text": [
      "name_change\n",
      "NorthDakota\n"
     ]
    }
   ],
   "source": [
    "# rename file \n",
    "for i in p.glob('NorthDakota_Z15_S2_BFS/*'): \n",
    "    if i.name == \"combined_map_points.txt\":\n",
    "        print('name_change')\n",
    "        new_name = i.parent.name.split('_')[0]\n",
    "        print(new_name)\n",
    "        i.rename(i.with_name(f'{new_name}.txt'))"
   ]
  },
  {
   "cell_type": "code",
   "execution_count": 31,
   "metadata": {},
   "outputs": [],
   "source": [
    "target_file = Path('./Alabama_Z15_S2_BFS/combined_map_points.txt')"
   ]
  },
  {
   "cell_type": "code",
   "execution_count": 34,
   "metadata": {},
   "outputs": [],
   "source": [
    "with open(target_file) as fp: \n",
    "    Lines = fp.readlines()"
   ]
  },
  {
   "cell_type": "code",
   "execution_count": 36,
   "metadata": {},
   "outputs": [
    {
     "data": {
      "text/plain": [
       "'30.268862033123877,-88.3898377418518\\n'"
      ]
     },
     "execution_count": 36,
     "metadata": {},
     "output_type": "execute_result"
    }
   ],
   "source": [
    "Lines[1]"
   ]
  },
  {
   "cell_type": "code",
   "execution_count": null,
   "metadata": {},
   "outputs": [],
   "source": []
  }
 ],
 "metadata": {
  "kernelspec": {
   "display_name": "Python 3",
   "language": "python",
   "name": "python3"
  },
  "language_info": {
   "codemirror_mode": {
    "name": "ipython",
    "version": 3
   },
   "file_extension": ".py",
   "mimetype": "text/x-python",
   "name": "python",
   "nbconvert_exporter": "python",
   "pygments_lexer": "ipython3",
   "version": "3.8.2"
  }
 },
 "nbformat": 4,
 "nbformat_minor": 4
}
