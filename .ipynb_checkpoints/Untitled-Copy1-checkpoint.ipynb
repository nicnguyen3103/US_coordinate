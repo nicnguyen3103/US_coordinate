{
 "cells": [
  {
   "cell_type": "code",
   "execution_count": 1,
   "metadata": {},
   "outputs": [],
   "source": [
    "import os\n",
    "from pathlib import Path"
   ]
  },
  {
   "cell_type": "code",
   "execution_count": 2,
   "metadata": {},
   "outputs": [],
   "source": [
    "p = Path('.')"
   ]
  },
  {
   "cell_type": "code",
   "execution_count": 3,
   "metadata": {},
   "outputs": [
    {
     "name": "stdout",
     "output_type": "stream",
     "text": [
      "\u001b[34mAlabama_Z15_S2_BFS\u001b[m\u001b[m/                \u001b[34mNewJersey_Z15_S2_BFS\u001b[m\u001b[m/\r\n",
      "\u001b[34mAlaska_Z15_S2_BFS\u001b[m\u001b[m/                 \u001b[34mNewMexico_Z15_S2_BFS\u001b[m\u001b[m/\r\n",
      "\u001b[34mArizona_Z15_S2_BFS\u001b[m\u001b[m/                \u001b[34mNewYork_Z15_S2_BFS\u001b[m\u001b[m/\r\n",
      "\u001b[34mArkansas_Z15_S2_BFS\u001b[m\u001b[m/               \u001b[34mNorthCarolina_Z15_S2_BFS\u001b[m\u001b[m/\r\n",
      "\u001b[34mCalifornia_Z15_S2_BFS\u001b[m\u001b[m/             \u001b[34mNorthDakota_Z15_S2_BFS\u001b[m\u001b[m/\r\n",
      "\u001b[34mColorado_Z15_S2_BFS\u001b[m\u001b[m/               \u001b[34mOhio_Z15_S2_BFS\u001b[m\u001b[m/\r\n",
      "\u001b[34mConnecticut_Z15_S2_BFS\u001b[m\u001b[m/            \u001b[34mOklahoma_Z15_S2_BFS\u001b[m\u001b[m/\r\n",
      "\u001b[34mDelaware_Z15_S2_BFS\u001b[m\u001b[m/               \u001b[34mOregon_Z15_S2_BFS\u001b[m\u001b[m/\r\n",
      "\u001b[34mFlorida_Z15_S2_BFS\u001b[m\u001b[m/                \u001b[34mPennsylvania_Z15_S2_BFS\u001b[m\u001b[m/\r\n",
      "\u001b[34mGeorgia_Z15_S2_BFS\u001b[m\u001b[m/                \u001b[34mPortugal_Z15_S2_BFS\u001b[m\u001b[m/\r\n",
      "\u001b[34mHawaii_Z15_S2_BFS\u001b[m\u001b[m/                 \u001b[34mPuerto_Rico_Island_Z15_S2_BFS\u001b[m\u001b[m/\r\n",
      "\u001b[34mIdaho_Z15_S2_BFS\u001b[m\u001b[m/                  \u001b[34mQatar_Z15_S2_BFS\u001b[m\u001b[m/\r\n",
      "\u001b[34mIllinois_Z15_S2_BFS\u001b[m\u001b[m/               \u001b[34mRhodeIsland_Z15_S2_BFS\u001b[m\u001b[m/\r\n",
      "\u001b[34mIndiana_Z15_S2_BFS\u001b[m\u001b[m/                \u001b[34mSouthCarolina_Z15_S2_BFS\u001b[m\u001b[m/\r\n",
      "\u001b[34mIowa_Z15_S2_BFS\u001b[m\u001b[m/                   \u001b[34mSouthDakota_Z15_S2_BFS\u001b[m\u001b[m/\r\n",
      "\u001b[34mKansas_Z15_S2_BFS\u001b[m\u001b[m/                 \u001b[34mTennessee_Z15_S2_BFS\u001b[m\u001b[m/\r\n",
      "\u001b[34mKentucky_Z15_S2_BFS\u001b[m\u001b[m/               \u001b[34mTexas_Z15_S2_BFS\u001b[m\u001b[m/\r\n",
      "\u001b[34mLouisiana_Z15_S2_BFS\u001b[m\u001b[m/              \u001b[34mUS_WKT\u001b[m\u001b[m/\r\n",
      "\u001b[34mMaine_Z15_S2_BFS\u001b[m\u001b[m/                  Untitled-Copy1.ipynb\r\n",
      "\u001b[34mMarryland_Z15_S2_BFS\u001b[m\u001b[m/              Untitled.ipynb\r\n",
      "\u001b[34mMassachusetts_Z15_S2_BFS\u001b[m\u001b[m/          \u001b[34mUtah_Z15_S2_BFS\u001b[m\u001b[m/\r\n",
      "\u001b[34mMichigan_Z15_S2_BFS\u001b[m\u001b[m/               \u001b[34mVermont_Z15_S2_BFS\u001b[m\u001b[m/\r\n",
      "\u001b[34mMinnesota_Z15_S2_BFS\u001b[m\u001b[m/              \u001b[34mVirgin_Island_Z15_S2_BFS\u001b[m\u001b[m/\r\n",
      "\u001b[34mMinor_Outlying_Islands_Z15_S2_BFS\u001b[m\u001b[m/ \u001b[34mVirginia_Z15_S2_BFS\u001b[m\u001b[m/\r\n",
      "\u001b[34mMississippi_Z15_S2_BFS\u001b[m\u001b[m/            \u001b[34mWashingtonDC_Z15_S2_BFS\u001b[m\u001b[m/\r\n",
      "\u001b[34mMissouri_Z15_S2_BFS\u001b[m\u001b[m/               \u001b[34mWashington_Z15_S2_BFS\u001b[m\u001b[m/\r\n",
      "\u001b[34mMontana_Z15_S2_BFS\u001b[m\u001b[m/                \u001b[34mWestVirginia_Z15_S2_BFS\u001b[m\u001b[m/\r\n",
      "\u001b[34mNebraska_Z15_S2_BFS\u001b[m\u001b[m/               \u001b[34mWhole_Country\u001b[m\u001b[m/\r\n",
      "\u001b[34mNevada_Z15_S2_BFS\u001b[m\u001b[m/                 \u001b[34mWisconsin_Z15_S2_BFS\u001b[m\u001b[m/\r\n",
      "\u001b[34mNewHampshire_Z15_S2_BFS\u001b[m\u001b[m/           \u001b[34mWyoming_Z15_S2_BFS\u001b[m\u001b[m/\r\n"
     ]
    }
   ],
   "source": [
    "ls"
   ]
  },
  {
   "cell_type": "code",
   "execution_count": 5,
   "metadata": {},
   "outputs": [
    {
     "data": {
      "text/plain": [
       "<generator object Path.glob at 0x111068740>"
      ]
     },
     "execution_count": 5,
     "metadata": {},
     "output_type": "execute_result"
    }
   ],
   "source": [
    "p.glob('Indiana_Z15_S2_BFS/*')"
   ]
  },
  {
   "cell_type": "code",
   "execution_count": 7,
   "metadata": {},
   "outputs": [],
   "source": [
    "# list(p.glob('**/**'))"
   ]
  },
  {
   "cell_type": "code",
   "execution_count": 24,
   "metadata": {},
   "outputs": [],
   "source": [
    "for i in p.glob('**/*'):\n",
    "    if i.name != \"combined_map_points.txt\" and i.is_file():\n",
    "        i.unlink()"
   ]
  },
  {
   "cell_type": "code",
   "execution_count": 19,
   "metadata": {},
   "outputs": [],
   "source": [
    "for i in p.glob('**/**'):\n",
    "    if i.name != \"combined_map_points.txt\" and :\n",
    "        print(i)"
   ]
  },
  {
   "cell_type": "code",
   "execution_count": 12,
   "metadata": {},
   "outputs": [
    {
     "name": "stdout",
     "output_type": "stream",
     "text": [
      "Indiana_Z15_S2_BFS/combined_map_points.txt\n",
      "Indiana_Z15_S2_BFS/tiles-matrix\n"
     ]
    }
   ],
   "source": [
    "for i in p.glob('Indiana_Z15_S2_BFS/*'):\n",
    "    print(i)"
   ]
  },
  {
   "cell_type": "code",
   "execution_count": 29,
   "metadata": {},
   "outputs": [
    {
     "name": "stdout",
     "output_type": "stream",
     "text": [
      "name_change\n",
      "NorthDakota\n"
     ]
    }
   ],
   "source": [
    "# rename file \n",
    "for i in p.glob('NorthDakota_Z15_S2_BFS/*'): \n",
    "    if i.name == \"combined_map_points.txt\":\n",
    "        print('name_change')\n",
    "        new_name = i.parent.name.split('_')[0]\n",
    "        print(new_name)\n",
    "        i.rename(i.with_name(f'{new_name}.txt'))"
   ]
  },
  {
   "cell_type": "code",
   "execution_count": 31,
   "metadata": {},
   "outputs": [],
   "source": [
    "target_file = Path('./Alabama_Z15_S2_BFS/combined_map_points.txt')"
   ]
  },
  {
   "cell_type": "code",
   "execution_count": 34,
   "metadata": {},
   "outputs": [],
   "source": [
    "with open(target_file) as fp: \n",
    "    Lines = fp.readlines()"
   ]
  },
  {
   "cell_type": "code",
   "execution_count": 36,
   "metadata": {},
   "outputs": [
    {
     "data": {
      "text/plain": [
       "'30.268862033123877,-88.3898377418518\\n'"
      ]
     },
     "execution_count": 36,
     "metadata": {},
     "output_type": "execute_result"
    }
   ],
   "source": [
    "Lines[1]"
   ]
  },
  {
   "cell_type": "code",
   "execution_count": null,
   "metadata": {},
   "outputs": [],
   "source": []
  }
 ],
 "metadata": {
  "kernelspec": {
   "display_name": "Python 3",
   "language": "python",
   "name": "python3"
  },
  "language_info": {
   "codemirror_mode": {
    "name": "ipython",
    "version": 3
   },
   "file_extension": ".py",
   "mimetype": "text/x-python",
   "name": "python",
   "nbconvert_exporter": "python",
   "pygments_lexer": "ipython3",
   "version": "3.8.2"
  }
 },
 "nbformat": 4,
 "nbformat_minor": 4
}
